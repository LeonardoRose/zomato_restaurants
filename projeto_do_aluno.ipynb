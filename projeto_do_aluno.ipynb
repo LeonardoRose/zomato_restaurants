{
 "cells": [
  {
   "cell_type": "code",
   "execution_count": 1,
   "id": "c2f5e5b3",
   "metadata": {
    "ExecuteTime": {
     "end_time": "2023-02-20T14:21:10.587864Z",
     "start_time": "2023-02-20T14:21:09.419671Z"
    }
   },
   "outputs": [],
   "source": [
    "import pandas as pd\n",
    "import inflection"
   ]
  },
  {
   "cell_type": "code",
   "execution_count": 299,
   "id": "a2b47cc9",
   "metadata": {
    "ExecuteTime": {
     "end_time": "2023-02-20T17:43:52.433326Z",
     "start_time": "2023-02-20T17:43:52.388960Z"
    }
   },
   "outputs": [],
   "source": [
    "df_raw = pd.read_csv('datasets/zomato.csv')"
   ]
  },
  {
   "cell_type": "code",
   "execution_count": 300,
   "id": "dd6c1eef",
   "metadata": {
    "ExecuteTime": {
     "end_time": "2023-02-20T17:43:52.698158Z",
     "start_time": "2023-02-20T17:43:52.680206Z"
    }
   },
   "outputs": [],
   "source": [
    "dataframe = df_raw.copy()"
   ]
  },
  {
   "cell_type": "markdown",
   "id": "7e2437e2",
   "metadata": {},
   "source": [
    "# Helper Functions"
   ]
  },
  {
   "cell_type": "code",
   "execution_count": 301,
   "id": "84a712c3",
   "metadata": {
    "ExecuteTime": {
     "end_time": "2023-02-20T17:43:53.980708Z",
     "start_time": "2023-02-20T17:43:53.965749Z"
    }
   },
   "outputs": [],
   "source": [
    "# Preenchimento do nome dos países\n",
    "COUNTRIES = {\n",
    "    1: \"India\",\n",
    "    14: \"Australia\",\n",
    "    30: \"Brazil\",\n",
    "    37: \"Canada\",\n",
    "    94: \"Indonesia\",\n",
    "    148: \"New Zeland\",\n",
    "    162: \"Philippines\",\n",
    "    166: \"Qatar\",\n",
    "    184: \"Singapure\",\n",
    "    189: \"South Africa\",\n",
    "    191: \"Sri Lanka\",\n",
    "    208: \"Turkey\",\n",
    "    214: \"United Arab Emirates\",\n",
    "    215: \"England\",\n",
    "    216: \"United States of America\",\n",
    "    }\n",
    "\n",
    "def country_name(country_id):\n",
    "    return COUNTRIES[country_id]\n",
    "\n",
    "# Criação do Tipo de Categoria de Comida\n",
    "def create_price_type(price_range):\n",
    "    if price_range == 1:\n",
    "        return \"cheap\"\n",
    "    elif price_range == 2:\n",
    "        return \"normal\"\n",
    "    elif price_range == 3:\n",
    "        return \"expensive\"\n",
    "    else:\n",
    "        return \"gourmet\"\n",
    "\n",
    "# Criação do nome das Cores\n",
    "COLORS = {\n",
    "\"3F7E00\": \"darkgreen\",\n",
    "\"5BA829\": \"green\",\n",
    "\"9ACD32\": \"lightgreen\",\n",
    "\"CDD614\": \"orange\",\n",
    "\"FFBA00\": \"red\",\n",
    "\"CBCBC8\": \"darkred\",\n",
    "\"FF7800\": \"darkred\",\n",
    "}\n",
    "\n",
    "def color_name(color_code):\n",
    "    return COLORS[color_code]\n",
    "\n",
    "# Renomear as colunas do DataFrame\n",
    "def rename_columns(dataframe):\n",
    "    df = dataframe.copy()\n",
    "    title = lambda x: inflection.titleize(x)\n",
    "    snakecase = lambda x: inflection.underscore(x)\n",
    "    spaces = lambda x: x.replace(\" \", \"\")\n",
    "    cols_old = list(df.columns)\n",
    "    cols_old = list(map(title, cols_old))\n",
    "    cols_old = list(map(spaces, cols_old))\n",
    "    cols_new = list(map(snakecase, cols_old))\n",
    "    df.columns = cols_new\n",
    "    return df\n"
   ]
  },
  {
   "cell_type": "markdown",
   "id": "a597f817",
   "metadata": {},
   "source": [
    "# 0.0. Dataframe"
   ]
  },
  {
   "cell_type": "code",
   "execution_count": 302,
   "id": "c627a4c7",
   "metadata": {
    "ExecuteTime": {
     "end_time": "2023-02-20T17:43:55.841731Z",
     "start_time": "2023-02-20T17:43:55.802699Z"
    }
   },
   "outputs": [],
   "source": [
    "# Formatting df\n",
    "df = rename_columns(dataframe)\n",
    "\n",
    "# Removing NaN\n",
    "df = df.loc[~df['cuisines'].isna(),:]\n",
    "# df = df.reset_index()\n",
    "\n",
    "# Removing columns\n",
    "df = df.drop(columns=['switch_to_order_menu'])\n",
    "\n",
    "# Column price_range_type\n",
    "df['price_range_type'] = df['price_range'].apply(lambda x: create_price_type(x) )\n",
    "\n",
    "# Column country_name\n",
    "df['country_name'] = df['country_code'].apply(lambda x: country_name(x))  \n",
    "\n",
    "# Columns color_name\n",
    "df['color_name'] = df['rating_color'].apply(lambda x: color_name(x) ) \n",
    "\n",
    "# Cuisines\n",
    "df['cuisines'] = df.loc[:, 'cuisines'].apply(lambda x: x.split(\",\")[0])\n",
    "\n",
    "# Changing types\n",
    "to_object = ['restaurant_id','country_code']\n",
    "df.loc[: , to_object] = df.loc[: , to_object].astype(str)\n",
    "\n",
    "# Reset index\n",
    "df = df.reset_index(drop=True)"
   ]
  },
  {
   "cell_type": "markdown",
   "id": "7d5044c8",
   "metadata": {
    "heading_collapsed": true
   },
   "source": [
    "# 1.0. Geral"
   ]
  },
  {
   "cell_type": "markdown",
   "id": "b6f15077",
   "metadata": {
    "hidden": true
   },
   "source": [
    "1. Quantos restaurantes únicos estão registrados?\n",
    "2. Quantos países únicos estão registrados?\n",
    "3. Quantas cidades únicas estão registradas?\n",
    "4. Qual o total de avaliações feitas?\n",
    "5. Qual o total de tipos de culinária registrados?"
   ]
  },
  {
   "cell_type": "code",
   "execution_count": null,
   "id": "bd6f54e9",
   "metadata": {
    "ExecuteTime": {
     "end_time": "2023-02-19T20:21:56.242548Z",
     "start_time": "2023-02-19T20:21:56.231476Z"
    },
    "hidden": true
   },
   "outputs": [],
   "source": [
    "#1. Quantos restaurantes únicos estão registrados?\n",
    "restaurants_uniques = df['restaurant_id'].nunique()\n",
    "restaurants_uniques"
   ]
  },
  {
   "cell_type": "code",
   "execution_count": null,
   "id": "9999327c",
   "metadata": {
    "ExecuteTime": {
     "end_time": "2023-02-19T20:26:47.737730Z",
     "start_time": "2023-02-19T20:26:47.730752Z"
    },
    "hidden": true
   },
   "outputs": [],
   "source": [
    "#2. Quantos países únicos estão registrados?\n",
    "country_unique = df['country_code'].nunique()\n",
    "country_unique"
   ]
  },
  {
   "cell_type": "code",
   "execution_count": null,
   "id": "2d25d244",
   "metadata": {
    "ExecuteTime": {
     "end_time": "2023-02-19T20:27:19.165694Z",
     "start_time": "2023-02-19T20:27:19.146506Z"
    },
    "hidden": true
   },
   "outputs": [],
   "source": [
    "#3. Quantas cidades únicas estão registradas?\n",
    "city_unique = df['city'].nunique()\n",
    "city_unique"
   ]
  },
  {
   "cell_type": "code",
   "execution_count": null,
   "id": "208dc98e",
   "metadata": {
    "ExecuteTime": {
     "end_time": "2023-02-19T20:28:09.876666Z",
     "start_time": "2023-02-19T20:28:09.864597Z"
    },
    "hidden": true
   },
   "outputs": [],
   "source": [
    "#4. Qual o total de avaliações feitas?\n",
    "total_votes = df['votes'].sum()\n",
    "total_votes"
   ]
  },
  {
   "cell_type": "code",
   "execution_count": null,
   "id": "effc72b0",
   "metadata": {
    "ExecuteTime": {
     "end_time": "2023-02-19T20:30:07.659139Z",
     "start_time": "2023-02-19T20:30:07.642095Z"
    },
    "hidden": true
   },
   "outputs": [],
   "source": [
    "#5. Qual o total de tipos de culinária registrados?\n",
    "cusines_uniques = df['cuisines'].nunique()\n",
    "cusines_uniques\n",
    "\n"
   ]
  },
  {
   "cell_type": "markdown",
   "id": "43dd9a6b",
   "metadata": {
    "heading_collapsed": true
   },
   "source": [
    "# 2.0. País"
   ]
  },
  {
   "cell_type": "markdown",
   "id": "30e1bd39",
   "metadata": {
    "hidden": true
   },
   "source": [
    "1. Qual o nome do país que possui mais cidades registradas?\n",
    "2. Qual o nome do país que possui mais restaurantes registrados?\n",
    "3. Qual o nome do país que possui mais restaurantes com o nível de preço igual a 4 registrados?\n",
    "4. Qual o nome do país que possui a maior quantidade de tipos de culinária distintos?\n",
    "5. Qual o nome do país que possui a maior quantidade de avaliações feitas?\n",
    "6. Qual o nome do país que possui a maior quantidade de restaurantes que fazem entrega?\n",
    "7. Qual o nome do país que possui a maior quantidade de restaurantes que aceitam reservas?\n",
    "8. Qual o nome do país que possui, na média, a maior quantidade de avaliações registrada?\n",
    "9. Qual o nome do país que possui, na média, a maior nota média registrada?\n",
    "10. Qual o nome do país que possui, na média, a menor nota média registrada?\n",
    "11. Qual a média de preço de um prato para dois por país?\n"
   ]
  },
  {
   "cell_type": "code",
   "execution_count": 6,
   "id": "f2c04af6",
   "metadata": {
    "ExecuteTime": {
     "end_time": "2023-02-20T14:23:21.163883Z",
     "start_time": "2023-02-20T14:23:21.141942Z"
    },
    "hidden": true
   },
   "outputs": [
    {
     "data": {
      "text/plain": [
       "'India'"
      ]
     },
     "execution_count": 6,
     "metadata": {},
     "output_type": "execute_result"
    }
   ],
   "source": [
    "# 1. Qual o nome do país que possui mais cidades registradas?\n",
    "\n",
    "most_cities = df.loc[:, ['country_name','city']].groupby(['country_name']).nunique().sort_values(by='city', ascending=False).reset_index().loc[0,'country_name']\n",
    "most_cities"
   ]
  },
  {
   "cell_type": "code",
   "execution_count": 8,
   "id": "e2926242",
   "metadata": {
    "ExecuteTime": {
     "end_time": "2023-02-20T14:23:36.635016Z",
     "start_time": "2023-02-20T14:23:36.610393Z"
    },
    "hidden": true
   },
   "outputs": [
    {
     "data": {
      "text/plain": [
       "'United States of America'"
      ]
     },
     "execution_count": 8,
     "metadata": {},
     "output_type": "execute_result"
    }
   ],
   "source": [
    "# 2. Qual o nome do país que possui mais restaurantes registrados?\n",
    "\n",
    "most_restaurants = df.loc[:, ['country_name','restaurant_id']].groupby(['country_name']).nunique().sort_values(by='country_name', ascending=False).reset_index().loc[0,'country_name']\n",
    "most_restaurants"
   ]
  },
  {
   "cell_type": "code",
   "execution_count": 44,
   "id": "5cc810e4",
   "metadata": {
    "ExecuteTime": {
     "end_time": "2023-02-20T14:40:01.687290Z",
     "start_time": "2023-02-20T14:40:01.674326Z"
    },
    "hidden": true
   },
   "outputs": [
    {
     "data": {
      "text/plain": [
       "'United States of America'"
      ]
     },
     "execution_count": 44,
     "metadata": {},
     "output_type": "execute_result"
    }
   ],
   "source": [
    "# 3. Qual o nome do país que possui mais restaurantes com o nível de preço igual a 4 registrados?\n",
    "\n",
    "most_restaurants_4 = df.loc[ df['price_range'] == 4 , ['country_name','restaurant_id'] ].groupby(['country_name']).nunique().sort_values(by='restaurant_id', ascending=False).reset_index().loc[0,'country_name']\n",
    "most_restaurants_4\n"
   ]
  },
  {
   "cell_type": "code",
   "execution_count": 51,
   "id": "638d962c",
   "metadata": {
    "ExecuteTime": {
     "end_time": "2023-02-20T14:44:03.763136Z",
     "start_time": "2023-02-20T14:44:03.750171Z"
    },
    "hidden": true
   },
   "outputs": [
    {
     "data": {
      "text/plain": [
       "'India'"
      ]
     },
     "execution_count": 51,
     "metadata": {},
     "output_type": "execute_result"
    }
   ],
   "source": [
    "# 4. Qual o nome do país que possui a maior quantidade de tipos de culinária distintos?\n",
    "\n",
    "most_cuisines = df.loc[ : , ['country_name','cuisines'] ].groupby(['country_name']).nunique().sort_values(by='cuisines', ascending=False).reset_index().loc[0,'country_name']\n",
    "most_cuisines"
   ]
  },
  {
   "cell_type": "code",
   "execution_count": 64,
   "id": "1009dec6",
   "metadata": {
    "ExecuteTime": {
     "end_time": "2023-02-20T14:49:00.688890Z",
     "start_time": "2023-02-20T14:49:00.668917Z"
    },
    "hidden": true
   },
   "outputs": [
    {
     "data": {
      "text/plain": [
       "'India'"
      ]
     },
     "execution_count": 64,
     "metadata": {},
     "output_type": "execute_result"
    }
   ],
   "source": [
    "# 5. Qual o nome do país que possui a maior quantidade de avaliações feitas?\n",
    "\n",
    "most_votes = df.loc[ : , ['country_name','votes']].groupby(['country_name']).sum().sort_values(by='votes', ascending=False).reset_index().loc[0,'country_name']\n",
    "most_votes"
   ]
  },
  {
   "cell_type": "code",
   "execution_count": 96,
   "id": "ac68a27b",
   "metadata": {
    "ExecuteTime": {
     "end_time": "2023-02-20T15:07:58.093833Z",
     "start_time": "2023-02-20T15:07:58.077877Z"
    },
    "hidden": true
   },
   "outputs": [
    {
     "data": {
      "text/plain": [
       "'India'"
      ]
     },
     "execution_count": 96,
     "metadata": {},
     "output_type": "execute_result"
    }
   ],
   "source": [
    "# 6. Qual o nome do país que possui a maior quantidade de restaurantes que fazem entrega?\n",
    "colunas = ['country_name','restaurant_id']\n",
    "linhas_selecionadas = df['has_online_delivery'] == 1\n",
    "df.loc[ linhas_selecionadas , colunas ].groupby(['country_name']).nunique().sort_values('restaurant_id', ascending=False).reset_index().loc[0,'country_name']"
   ]
  },
  {
   "cell_type": "code",
   "execution_count": 118,
   "id": "92efc324",
   "metadata": {
    "ExecuteTime": {
     "end_time": "2023-02-20T15:15:33.728428Z",
     "start_time": "2023-02-20T15:15:33.710476Z"
    },
    "hidden": true
   },
   "outputs": [
    {
     "data": {
      "text/plain": [
       "'India'"
      ]
     },
     "execution_count": 118,
     "metadata": {},
     "output_type": "execute_result"
    }
   ],
   "source": [
    "# 7. Qual o nome do país que possui a maior quantidade de restaurantes que aceitam reservas?\n",
    "colunas = ['country_name','restaurant_id']\n",
    "linhas_selecionadas = df['has_table_booking'] == 1\n",
    "\n",
    "most_reservations = df.loc[ linhas_selecionadas , colunas ].groupby(['country_name']).nunique().sort_values('restaurant_id', ascending=False).reset_index().loc[0,'country_name']\n",
    "most_reservations"
   ]
  },
  {
   "cell_type": "code",
   "execution_count": 117,
   "id": "07d250cd",
   "metadata": {
    "ExecuteTime": {
     "end_time": "2023-02-20T15:13:26.042315Z",
     "start_time": "2023-02-20T15:13:26.023339Z"
    },
    "hidden": true
   },
   "outputs": [
    {
     "data": {
      "text/plain": [
       "'Indonesia'"
      ]
     },
     "execution_count": 117,
     "metadata": {},
     "output_type": "execute_result"
    }
   ],
   "source": [
    "# 8. Qual o nome do país que possui, na média, a maior quantidade de avaliações registrada?\n",
    "most_mean_votes = df.loc[:,['votes', 'country_name']].groupby(['country_name']).mean().sort_values('votes', ascending=False).reset_index().loc[0,'country_name']\n",
    "\n",
    "most_mean_votes"
   ]
  },
  {
   "cell_type": "code",
   "execution_count": 127,
   "id": "586dd554",
   "metadata": {
    "ExecuteTime": {
     "end_time": "2023-02-20T15:17:54.080983Z",
     "start_time": "2023-02-20T15:17:54.061965Z"
    },
    "hidden": true
   },
   "outputs": [
    {
     "data": {
      "text/plain": [
       "'Indonesia'"
      ]
     },
     "execution_count": 127,
     "metadata": {},
     "output_type": "execute_result"
    }
   ],
   "source": [
    "# 9. Qual o nome do país que possui, na média, a maior nota média registrada?\n",
    "\n",
    "highest_rate = df.loc[:,['aggregate_rating','country_name']].groupby(['country_name']).mean().sort_values(['aggregate_rating'], ascending=False).reset_index().loc[0,'country_name']\n",
    "highest_rate "
   ]
  },
  {
   "cell_type": "code",
   "execution_count": 128,
   "id": "4dda37af",
   "metadata": {
    "ExecuteTime": {
     "end_time": "2023-02-20T15:18:13.082827Z",
     "start_time": "2023-02-20T15:18:13.074848Z"
    },
    "hidden": true
   },
   "outputs": [
    {
     "data": {
      "text/plain": [
       "'Brazil'"
      ]
     },
     "execution_count": 128,
     "metadata": {},
     "output_type": "execute_result"
    }
   ],
   "source": [
    "# 10. Qual o nome do país que possui, na média, a menor nota média registrada?\n",
    "\n",
    "lowest_rate = df.loc[:,['aggregate_rating','country_name']].groupby(['country_name']).mean().sort_values(['aggregate_rating'], ascending=True).reset_index().loc[0,'country_name']\n",
    "lowest_rate "
   ]
  },
  {
   "cell_type": "code",
   "execution_count": 146,
   "id": "8ebe7b35",
   "metadata": {
    "ExecuteTime": {
     "end_time": "2023-02-20T15:21:50.193982Z",
     "start_time": "2023-02-20T15:21:50.181017Z"
    },
    "hidden": true
   },
   "outputs": [
    {
     "data": {
      "text/html": [
       "<div>\n",
       "<style scoped>\n",
       "    .dataframe tbody tr th:only-of-type {\n",
       "        vertical-align: middle;\n",
       "    }\n",
       "\n",
       "    .dataframe tbody tr th {\n",
       "        vertical-align: top;\n",
       "    }\n",
       "\n",
       "    .dataframe thead th {\n",
       "        text-align: right;\n",
       "    }\n",
       "</style>\n",
       "<table border=\"1\" class=\"dataframe\">\n",
       "  <thead>\n",
       "    <tr style=\"text-align: right;\">\n",
       "      <th></th>\n",
       "      <th>country_name</th>\n",
       "      <th>average_cost_for_two</th>\n",
       "    </tr>\n",
       "  </thead>\n",
       "  <tbody>\n",
       "    <tr>\n",
       "      <th>0</th>\n",
       "      <td>Indonesia</td>\n",
       "      <td>312682.9</td>\n",
       "    </tr>\n",
       "    <tr>\n",
       "      <th>1</th>\n",
       "      <td>Australia</td>\n",
       "      <td>138959.8</td>\n",
       "    </tr>\n",
       "    <tr>\n",
       "      <th>2</th>\n",
       "      <td>Sri Lanka</td>\n",
       "      <td>2607.5</td>\n",
       "    </tr>\n",
       "    <tr>\n",
       "      <th>3</th>\n",
       "      <td>Philippines</td>\n",
       "      <td>1211.1</td>\n",
       "    </tr>\n",
       "    <tr>\n",
       "      <th>4</th>\n",
       "      <td>India</td>\n",
       "      <td>703.0</td>\n",
       "    </tr>\n",
       "    <tr>\n",
       "      <th>5</th>\n",
       "      <td>South Africa</td>\n",
       "      <td>335.5</td>\n",
       "    </tr>\n",
       "    <tr>\n",
       "      <th>6</th>\n",
       "      <td>Qatar</td>\n",
       "      <td>176.6</td>\n",
       "    </tr>\n",
       "    <tr>\n",
       "      <th>7</th>\n",
       "      <td>United Arab Emirates</td>\n",
       "      <td>158.2</td>\n",
       "    </tr>\n",
       "    <tr>\n",
       "      <th>8</th>\n",
       "      <td>Singapure</td>\n",
       "      <td>141.0</td>\n",
       "    </tr>\n",
       "    <tr>\n",
       "      <th>9</th>\n",
       "      <td>Brazil</td>\n",
       "      <td>137.4</td>\n",
       "    </tr>\n",
       "    <tr>\n",
       "      <th>10</th>\n",
       "      <td>Turkey</td>\n",
       "      <td>128.8</td>\n",
       "    </tr>\n",
       "    <tr>\n",
       "      <th>11</th>\n",
       "      <td>New Zeland</td>\n",
       "      <td>61.4</td>\n",
       "    </tr>\n",
       "    <tr>\n",
       "      <th>12</th>\n",
       "      <td>United States of America</td>\n",
       "      <td>54.9</td>\n",
       "    </tr>\n",
       "    <tr>\n",
       "      <th>13</th>\n",
       "      <td>England</td>\n",
       "      <td>43.0</td>\n",
       "    </tr>\n",
       "    <tr>\n",
       "      <th>14</th>\n",
       "      <td>Canada</td>\n",
       "      <td>41.9</td>\n",
       "    </tr>\n",
       "  </tbody>\n",
       "</table>\n",
       "</div>"
      ],
      "text/plain": [
       "                country_name  average_cost_for_two\n",
       "0                  Indonesia              312682.9\n",
       "1                  Australia              138959.8\n",
       "2                  Sri Lanka                2607.5\n",
       "3                Philippines                1211.1\n",
       "4                      India                 703.0\n",
       "5               South Africa                 335.5\n",
       "6                      Qatar                 176.6\n",
       "7       United Arab Emirates                 158.2\n",
       "8                  Singapure                 141.0\n",
       "9                     Brazil                 137.4\n",
       "10                    Turkey                 128.8\n",
       "11                New Zeland                  61.4\n",
       "12  United States of America                  54.9\n",
       "13                   England                  43.0\n",
       "14                    Canada                  41.9"
      ]
     },
     "execution_count": 146,
     "metadata": {},
     "output_type": "execute_result"
    }
   ],
   "source": [
    "# 11. Qual a média de preço de um prato para dois por país?\n",
    "\n",
    "df.loc[:,['average_cost_for_two','country_name']].groupby('country_name').mean().sort_values('average_cost_for_two', ascending=False).round(1).reset_index()"
   ]
  },
  {
   "cell_type": "markdown",
   "id": "9aa3becc",
   "metadata": {
    "heading_collapsed": true
   },
   "source": [
    "# 3.0. Cidade"
   ]
  },
  {
   "cell_type": "markdown",
   "id": "736a99f8",
   "metadata": {
    "hidden": true
   },
   "source": [
    "1. Qual o nome da cidade que possui mais restaurantes registrados?\n",
    "2. Qual o nome da cidade que possui mais restaurantes com nota média acima de 4?\n",
    "3. Qual o nome da cidade que possui mais restaurantes com nota média abaixo de 2.5?\n",
    "4. Qual o nome da cidade que possui o maior valor médio de um prato para dois?\n",
    "5. Qual o nome da cidade que possui a maior quantidade de tipos de culinária distintas?\n",
    "6. Qual o nome da cidade que possui a maior quantidade de restaurantes que fazem reservas?\n",
    "7. Qual o nome da cidade que possui a maior quantidade de restaurantes que fazem entregas?\n",
    "8. Qual o nome da cidade que possui a maior quantidade de restaurantes que aceitam pedidos online?\n"
   ]
  },
  {
   "cell_type": "code",
   "execution_count": 167,
   "id": "fdc9caea",
   "metadata": {
    "ExecuteTime": {
     "end_time": "2023-02-20T15:45:59.809873Z",
     "start_time": "2023-02-20T15:45:59.784876Z"
    },
    "hidden": true
   },
   "outputs": [
    {
     "data": {
      "text/plain": [
       "['Abu Dhabi',\n",
       " 'Mysore',\n",
       " 'Glasgow',\n",
       " 'Goa',\n",
       " 'Guwahati',\n",
       " 'Hamilton',\n",
       " 'Houston',\n",
       " 'Indore',\n",
       " 'Jaipur',\n",
       " 'Kanpur',\n",
       " 'Kochi',\n",
       " 'Kolkata',\n",
       " 'London',\n",
       " 'Lucknow',\n",
       " 'Manchester',\n",
       " 'Mangalore',\n",
       " 'Nagpur',\n",
       " 'Durban',\n",
       " 'Ooty',\n",
       " 'Patna',\n",
       " 'Pretoria',\n",
       " 'Puducherry',\n",
       " 'Pune',\n",
       " 'Ranchi',\n",
       " 'Rio de Janeiro',\n",
       " 'Sharjah',\n",
       " 'Singapore',\n",
       " 'Surat',\n",
       " 'São Paulo',\n",
       " 'Vadodara',\n",
       " 'Varanasi',\n",
       " 'Vizag',\n",
       " 'Edinburgh',\n",
       " 'Ludhiana',\n",
       " 'Dubai',\n",
       " 'Cape Town',\n",
       " 'Brasília',\n",
       " 'Birmingham',\n",
       " 'Bhubaneshwar',\n",
       " 'Bhopal',\n",
       " 'Bangalore',\n",
       " 'Austin',\n",
       " 'Coimbatore',\n",
       " 'Aurangabad',\n",
       " 'Colombo',\n",
       " 'Dallas',\n",
       " 'Dehradun',\n",
       " 'Ankara',\n",
       " 'Amritsar',\n",
       " 'Allahabad',\n",
       " 'Agra',\n",
       " 'Doha',\n",
       " 'Chennai']"
      ]
     },
     "execution_count": 167,
     "metadata": {},
     "output_type": "execute_result"
    }
   ],
   "source": [
    "# 1. Qual o nome da cidade que possui mais restaurantes registrados?\n",
    "\n",
    "rest_by_city = df.loc[: , ['restaurant_id','city']].groupby('city').nunique().sort_values('restaurant_id', ascending=False).reset_index()\n",
    "\n",
    "city_list = rest_by_city.loc[ rest_by_city['restaurant_id'] == rest_by_city['restaurant_id'].max() , 'city' ].to_list()\n",
    "city_list"
   ]
  },
  {
   "cell_type": "code",
   "execution_count": 169,
   "id": "eb0b8222",
   "metadata": {
    "ExecuteTime": {
     "end_time": "2023-02-20T15:47:53.340185Z",
     "start_time": "2023-02-20T15:47:53.316115Z"
    },
    "hidden": true
   },
   "outputs": [
    {
     "data": {
      "text/plain": [
       "['London']"
      ]
     },
     "execution_count": 169,
     "metadata": {},
     "output_type": "execute_result"
    }
   ],
   "source": [
    "# 2. Qual o nome da cidade que possui mais restaurantes com nota média acima de 4?\n",
    "\n",
    "rest_by_city_4 = df.loc[ df['aggregate_rating'] >= 4 , ['restaurant_id','city']].groupby('city').nunique().sort_values('restaurant_id', ascending=False).reset_index()\n",
    "\n",
    "city_list_4 = rest_by_city_4.loc[ rest_by_city_4['restaurant_id'] == rest_by_city_4['restaurant_id'].max() , 'city' ].to_list()\n",
    "\n",
    "city_list_4"
   ]
  },
  {
   "cell_type": "code",
   "execution_count": 171,
   "id": "93a8f242",
   "metadata": {
    "ExecuteTime": {
     "end_time": "2023-02-20T15:49:09.194209Z",
     "start_time": "2023-02-20T15:49:09.182270Z"
    },
    "hidden": true
   },
   "outputs": [
    {
     "data": {
      "text/plain": [
       "['Gangtok']"
      ]
     },
     "execution_count": 171,
     "metadata": {},
     "output_type": "execute_result"
    }
   ],
   "source": [
    "# 3. Qual o nome da cidade que possui mais restaurantes com nota média abaixo de 2.5?\n",
    "\n",
    "rest_by_city_25 = df.loc[ df['aggregate_rating'] <= 2.5 , ['restaurant_id','city']].groupby('city').nunique().sort_values('restaurant_id', ascending=False).reset_index()\n",
    "\n",
    "city_list_25 = rest_by_city_25.loc[ rest_by_city_25['restaurant_id'] == rest_by_city_25['restaurant_id'].max() , 'city' ].to_list()\n",
    "\n",
    "city_list_25"
   ]
  },
  {
   "cell_type": "code",
   "execution_count": 183,
   "id": "ddb3e3fe",
   "metadata": {
    "ExecuteTime": {
     "end_time": "2023-02-20T15:54:08.089301Z",
     "start_time": "2023-02-20T15:54:08.079327Z"
    },
    "hidden": true
   },
   "outputs": [
    {
     "data": {
      "text/plain": [
       "'Adelaide'"
      ]
     },
     "execution_count": 183,
     "metadata": {},
     "output_type": "execute_result"
    }
   ],
   "source": [
    "# 4. Qual o nome da cidade que possui o maior valor médio de um prato para dois?\n",
    "\n",
    "df.loc[:, ['average_cost_for_two','city']].groupby('city').mean().sort_values('average_cost_for_two', ascending=False).reset_index().loc[0,'city']\n"
   ]
  },
  {
   "cell_type": "code",
   "execution_count": 192,
   "id": "38f492e9",
   "metadata": {
    "ExecuteTime": {
     "end_time": "2023-02-20T15:58:32.612594Z",
     "start_time": "2023-02-20T15:58:32.593405Z"
    },
    "hidden": true
   },
   "outputs": [
    {
     "data": {
      "text/plain": [
       "'Birmingham'"
      ]
     },
     "execution_count": 192,
     "metadata": {},
     "output_type": "execute_result"
    }
   ],
   "source": [
    "# 5. Qual o nome da cidade que possui a maior quantidade de tipos de culinária distintas?\n",
    "\n",
    "df.loc[:,['cuisines','city']].groupby('city').nunique().sort_values('cuisines',ascending=False).reset_index().loc[0,'city']"
   ]
  },
  {
   "cell_type": "code",
   "execution_count": 202,
   "id": "8c6f6b09",
   "metadata": {
    "ExecuteTime": {
     "end_time": "2023-02-20T16:01:00.270033Z",
     "start_time": "2023-02-20T16:01:00.251986Z"
    },
    "hidden": true
   },
   "outputs": [
    {
     "data": {
      "text/plain": [
       "'Bangalore'"
      ]
     },
     "execution_count": 202,
     "metadata": {},
     "output_type": "execute_result"
    }
   ],
   "source": [
    "# 6. Qual o nome da cidade que possui a maior quantidade de restaurantes que fazem reservas?\n",
    "df.loc[df['has_table_booking'] == 1, ['city','restaurant_id']].groupby('city').nunique().sort_values('restaurant_id', ascending=False).reset_index().loc[0,'city']\n"
   ]
  },
  {
   "cell_type": "code",
   "execution_count": 220,
   "id": "f9bf8b76",
   "metadata": {
    "ExecuteTime": {
     "end_time": "2023-02-20T16:06:26.593516Z",
     "start_time": "2023-02-20T16:06:26.579551Z"
    },
    "hidden": true
   },
   "outputs": [
    {
     "data": {
      "text/plain": [
       "['Vadodara', 'Amritsar']"
      ]
     },
     "execution_count": 220,
     "metadata": {},
     "output_type": "execute_result"
    }
   ],
   "source": [
    "# 7. Qual o nome da cidade que possui a maior quantidade de restaurantes que fazem entregas?\n",
    "rests_delivery = df.loc[ df['is_delivering_now']==1, ['restaurant_id','city']].groupby(['city']).nunique().sort_values('restaurant_id', ascending=False).reset_index()\n",
    "\n",
    "rests_delivery_list = rests_delivery.loc[ rests_delivery['restaurant_id'] == rests_delivery['restaurant_id'].max(), 'city' ].to_list()\n",
    "rests_delivery_list\n"
   ]
  },
  {
   "cell_type": "code",
   "execution_count": 223,
   "id": "5c0dd185",
   "metadata": {
    "ExecuteTime": {
     "end_time": "2023-02-20T16:07:03.456072Z",
     "start_time": "2023-02-20T16:07:03.431950Z"
    },
    "hidden": true
   },
   "outputs": [
    {
     "data": {
      "text/plain": [
       "['Abu Dhabi',\n",
       " 'Mysore',\n",
       " 'Glasgow',\n",
       " 'Goa',\n",
       " 'Guwahati',\n",
       " 'Hamilton',\n",
       " 'Houston',\n",
       " 'Indore',\n",
       " 'Jaipur',\n",
       " 'Kanpur',\n",
       " 'Kochi',\n",
       " 'Kolkata',\n",
       " 'London',\n",
       " 'Lucknow',\n",
       " 'Manchester',\n",
       " 'Mangalore',\n",
       " 'Nagpur',\n",
       " 'Durban',\n",
       " 'Ooty',\n",
       " 'Patna',\n",
       " 'Pretoria',\n",
       " 'Puducherry',\n",
       " 'Pune',\n",
       " 'Ranchi',\n",
       " 'Rio de Janeiro',\n",
       " 'Sharjah',\n",
       " 'Singapore',\n",
       " 'Surat',\n",
       " 'São Paulo',\n",
       " 'Vadodara',\n",
       " 'Varanasi',\n",
       " 'Vizag',\n",
       " 'Edinburgh',\n",
       " 'Ludhiana',\n",
       " 'Dubai',\n",
       " 'Cape Town',\n",
       " 'Brasília',\n",
       " 'Birmingham',\n",
       " 'Bhubaneshwar',\n",
       " 'Bhopal',\n",
       " 'Bangalore',\n",
       " 'Austin',\n",
       " 'Coimbatore',\n",
       " 'Aurangabad',\n",
       " 'Colombo',\n",
       " 'Dallas',\n",
       " 'Dehradun',\n",
       " 'Ankara',\n",
       " 'Amritsar',\n",
       " 'Allahabad',\n",
       " 'Agra',\n",
       " 'Doha',\n",
       " 'Chennai']"
      ]
     },
     "execution_count": 223,
     "metadata": {},
     "output_type": "execute_result"
    }
   ],
   "source": [
    "# 8. Qual o nome da cidade que possui a maior quantidade de restaurantes que aceitam pedidos online?\n",
    "\n",
    "rests_delivery_online = df.loc[ df['has_online_delivery']==1, ['restaurant_id','city']].groupby(['city']).nunique().sort_values('restaurant_id', ascending=False).reset_index()\n",
    "\n",
    "rests_delivery_online_list = rests_delivery_online.loc[ rests_delivery_online['restaurant_id'] == rests_delivery_online['restaurant_id'].max(), 'city' ].to_list()\n",
    "\n",
    "rests_delivery_online_list"
   ]
  },
  {
   "cell_type": "markdown",
   "id": "ef613dcb",
   "metadata": {
    "heading_collapsed": true
   },
   "source": [
    "# 4.0. Restaurantes"
   ]
  },
  {
   "cell_type": "markdown",
   "id": "4db4f68a",
   "metadata": {
    "hidden": true
   },
   "source": [
    "1. Qual o nome do restaurante que possui a maior quantidade de avaliações?\n",
    "2. Qual o nome do restaurante com a maior nota média?\n",
    "3. Qual o nome do restaurante que possui o maior valor de uma prato para duas pessoas?\n",
    "4. Qual o nome do restaurante de tipo de culinária brasileira que possui a menor média de avaliação?\n",
    "5. Qual o nome do restaurante de tipo de culinária brasileira, e que é do Brasil, que possui a maior média de avaliação?\n",
    "6. Os restaurantes que aceitam pedido online são também, na média, os restaurantes que mais possuem avaliações registradas?\n",
    "7. Os restaurantes que fazem reservas são também, na média, os restaurantes que possuem o maior valor médio de um prato para duas pessoas?\n",
    "8. Os restaurantes do tipo de culinária japonesa dos Estados Unidos da América possuem um valor médio de prato para duas pessoas maior que as churrascarias americanas (BBQ)?"
   ]
  },
  {
   "cell_type": "code",
   "execution_count": 304,
   "id": "275941a4",
   "metadata": {
    "ExecuteTime": {
     "end_time": "2023-02-20T17:44:44.173085Z",
     "start_time": "2023-02-20T17:44:44.148178Z"
    },
    "hidden": true
   },
   "outputs": [
    {
     "data": {
      "text/plain": [
       "\"Domino's Pizza\""
      ]
     },
     "execution_count": 304,
     "metadata": {},
     "output_type": "execute_result"
    }
   ],
   "source": [
    "# 1. Qual o nome do restaurante que possui a maior quantidade de avaliações?\n",
    "\n",
    "rest_most_voted = df.loc[:, ['restaurant_name','votes']].groupby('restaurant_name').sum().sort_values('votes', ascending=False).reset_index().iloc[0,0]\n",
    "rest_most_voted"
   ]
  },
  {
   "cell_type": "code",
   "execution_count": 305,
   "id": "1f9bdad9",
   "metadata": {
    "ExecuteTime": {
     "end_time": "2023-02-20T17:44:45.274895Z",
     "start_time": "2023-02-20T17:44:45.250958Z"
    },
    "hidden": true
   },
   "outputs": [
    {
     "data": {
      "text/plain": [
       "[\"Phil's Bbq\",\n",
       " 'Burger Ka Baap',\n",
       " 'The Huddle Sports Bar and Grill - Citymax Hotels Bur Dubai',\n",
       " 'The Himalayan',\n",
       " \"Gerard's Bistro\",\n",
       " 'Feel Alive',\n",
       " 'The Potluck Club',\n",
       " \"Dalessandro's Steaks\",\n",
       " 'Churrascaria Palace',\n",
       " 'Olive Et Gourmando',\n",
       " 'Diddy Riese Cookies',\n",
       " 'The Harvest Vine',\n",
       " \"Kono's Surf Club Cafe\",\n",
       " 'Mint Leaf of London',\n",
       " 'The Choco Monarch',\n",
       " 'Nox - Dine In The Dark',\n",
       " 'Di Rienzo Grocery & Deli',\n",
       " 'Home Slice Pizza',\n",
       " 'Bayramoğlu Döner',\n",
       " 'WAKI Japanese BBQ Dining',\n",
       " 'Vortex Bar & Grill',\n",
       " 'The Halal Guys',\n",
       " 'Screen Door',\n",
       " 'Union Woodshop',\n",
       " 'Level 5 - Terrace Restro & Cafe',\n",
       " 'Fraser Café',\n",
       " 'Sentosa MultiCuisine Restaurant',\n",
       " 'Paseo',\n",
       " 'Fox Brothers Bar-B-Q',\n",
       " 'Indian Grill Room',\n",
       " \"Big Bill's\",\n",
       " 'Café Du Monde',\n",
       " 'Kazu',\n",
       " 'Tuck Shop',\n",
       " 'Tuck Shop Cafe',\n",
       " 'Dinner By Heston Blumenthal - Mandarin Oriental Hyde Park',\n",
       " 'Kebabsville - Sayaji Hotel',\n",
       " 'Milse',\n",
       " 'Cut By Wolfgang Puck',\n",
       " 'Fairmount Bagel',\n",
       " 'El Tepeyac Café',\n",
       " 'Baked & Wired',\n",
       " 'DW Eleven-13',\n",
       " 'Mendokoro Ramenba',\n",
       " \"Hodad's\",\n",
       " 'Wild Honey',\n",
       " \"S'MAC\",\n",
       " 'The Public House Café n Restaurant',\n",
       " 'Ombra',\n",
       " 'Skye - Hotel Unique',\n",
       " 'Tapri Central',\n",
       " 'Aprazível',\n",
       " 'Kukis',\n",
       " 'Carnival By Trèsind',\n",
       " 'Mon Ami Gabi',\n",
       " 'Chicago Pizza & Oven Grinder Company',\n",
       " 'Starbucks',\n",
       " 'Lafayette Coney Island',\n",
       " 'Molten Chocolate Cafe',\n",
       " 'Urbanologi',\n",
       " \"Santarpio's Pizza\",\n",
       " 'Pousada By The Beach',\n",
       " \"Amélie's\",\n",
       " 'Pabbas',\n",
       " 'Lankford Grocery',\n",
       " 'Sushi Samba',\n",
       " 'Chin Chin Labs',\n",
       " 'Las Cuatro Milpas',\n",
       " 'Ola Brasil Restaurant',\n",
       " 'Earl of Sandwich',\n",
       " \"Portillo's Hot Dogs\",\n",
       " 'Falafel Bistro & Wine Bar',\n",
       " \"Mel's Country Cafe\",\n",
       " 'Andina Restaurant',\n",
       " \"Andre's Cucina & Polenta Bar\",\n",
       " 'Sushi Masa',\n",
       " 'Sushi Leblon',\n",
       " 'Oink',\n",
       " 'Samurai',\n",
       " 'OEB Breakfast Co.',\n",
       " 'La Colombe',\n",
       " \"Kuma's Corner - Belmont\",\n",
       " 'Chotto Matte',\n",
       " 'Cafe Del Sol Classico',\n",
       " 'Gemelli Cucina Bar',\n",
       " 'Fat Cat',\n",
       " 'Eleos Restaurant',\n",
       " 'The Cowfish Sushi Burger Bar',\n",
       " 'Chool',\n",
       " 'Bakery Nouveau',\n",
       " 'The Curry Culture',\n",
       " 'Village Ice Cream',\n",
       " 'Via De Los Santos Mexican Cafe',\n",
       " \"Leon's Full Service\",\n",
       " 'Gelateria Montecatini Terme',\n",
       " 'The Delhi',\n",
       " 'Antico Pizza',\n",
       " 'Amano Restaurant',\n",
       " 'Vietnam House Restaurant & Gallery',\n",
       " 'The Parlor Pizzeria',\n",
       " 'Sweet Georgia Brown',\n",
       " 'Odette',\n",
       " 'Gaga Manjero',\n",
       " 'Meraki The Coffee House',\n",
       " 'Tartine Bakery',\n",
       " 'Jacaranda Coffee Lane',\n",
       " 'Yew Tree Cottage',\n",
       " 'Noble Fish',\n",
       " 'Toro',\n",
       " 'Central Grocery',\n",
       " 'Zolocrust - Hotel Clarks Amer',\n",
       " \"Perricone's Marketplace & Café\",\n",
       " 'Ronin Cafe',\n",
       " \"Henry's Louisiana Grill\",\n",
       " 'Duck Island Ice Cream',\n",
       " 'Ortega Fish Shack & Bar',\n",
       " 'Ramen Yushoken',\n",
       " 'Colony',\n",
       " 'Regina Pizzeria',\n",
       " 'Naturals Ice Cream',\n",
       " 'Park Burger',\n",
       " 'Cafe Muse',\n",
       " 'Bel Punto',\n",
       " 'The Magnolia Pancake Haus',\n",
       " \"Cerroni's Purple Garlic\",\n",
       " 'Bhangra',\n",
       " 'Red Coat Tavern',\n",
       " 'Osteria Marco',\n",
       " 'Spice Kraft',\n",
       " 'Sidetrack Bar and Grill',\n",
       " 'Rogue Bistro',\n",
       " 'Food Shack',\n",
       " 'Spiral - Sofitel Philippine Plaza Manila',\n",
       " \"Jack Allen's Kitchen\",\n",
       " 'Heirloom Market BBQ',\n",
       " 'Mandoo Korean Dumplings',\n",
       " '5 Napkin Burger',\n",
       " \"Lombardi's Pizza\",\n",
       " 'The Sugar Club',\n",
       " \"Niko Niko's\",\n",
       " 'Z Deli Sandwich Shop',\n",
       " 'Braseiro da Gávea',\n",
       " 'The Ledbury',\n",
       " 'Firefly',\n",
       " \"Guillermo's\",\n",
       " \"Jimmy's A&A Mediterranean Deli\",\n",
       " 'tbsp.',\n",
       " 'Xoco',\n",
       " 'Brick Store Pub',\n",
       " 'Bottega Louie',\n",
       " 'Coal Barbecues',\n",
       " 'Indish Lounge',\n",
       " 'Nobu Perth',\n",
       " 'Wurstküche',\n",
       " 'Trilye',\n",
       " 'Tocabe, An American Indian Eatery',\n",
       " 'My Awesome Cafe',\n",
       " 'Pirates Of Grill',\n",
       " 'The Purple Pig',\n",
       " \"Tiny Boxwood's\",\n",
       " \"Rico's World Kitchen\",\n",
       " 'The Observatory',\n",
       " 'Restaurant Mosaic @ The Orient',\n",
       " 'Bao',\n",
       " 'Cochon Butcher',\n",
       " \"Celino's\",\n",
       " \"Mike's Pastry\",\n",
       " 'Kalsang AMA Cafe',\n",
       " 'Lotus of Siam',\n",
       " 'Duck & Waffle',\n",
       " 'The Original Ghirardelli Ice Cream and Chocolate Shop at Ghirardelli Square',\n",
       " 'Bi-Rite Creamery & Bakeshop',\n",
       " 'Yanki Sizzlers',\n",
       " 'Smoque BBQ',\n",
       " 'Miann',\n",
       " 'Baithak',\n",
       " 'Sharma Ji Ki Chai',\n",
       " 'The Sidewalk',\n",
       " \"Pequod's Pizza\",\n",
       " 'Rotisserie Romados',\n",
       " 'Zaytinya']"
      ]
     },
     "execution_count": 305,
     "metadata": {},
     "output_type": "execute_result"
    }
   ],
   "source": [
    "# 2. Qual o nome do restaurante com a maior nota média?\n",
    "\n",
    "rest_agg_rate = df.loc[:, ['restaurant_name','aggregate_rating']].groupby('restaurant_name').mean().sort_values('aggregate_rating', ascending=False).reset_index()\n",
    "\n",
    "rests_highest_rate = rest_agg_rate.loc[rest_agg_rate['aggregate_rating'] == rest_agg_rate['aggregate_rating'].max(), 'restaurant_name'].to_list()\n",
    "rests_highest_rate"
   ]
  },
  {
   "cell_type": "code",
   "execution_count": 306,
   "id": "8c59816e",
   "metadata": {
    "ExecuteTime": {
     "end_time": "2023-02-20T17:44:47.762809Z",
     "start_time": "2023-02-20T17:44:47.745831Z"
    },
    "hidden": true
   },
   "outputs": [
    {
     "data": {
      "text/html": [
       "<div>\n",
       "<style scoped>\n",
       "    .dataframe tbody tr th:only-of-type {\n",
       "        vertical-align: middle;\n",
       "    }\n",
       "\n",
       "    .dataframe tbody tr th {\n",
       "        vertical-align: top;\n",
       "    }\n",
       "\n",
       "    .dataframe thead th {\n",
       "        text-align: right;\n",
       "    }\n",
       "</style>\n",
       "<table border=\"1\" class=\"dataframe\">\n",
       "  <thead>\n",
       "    <tr style=\"text-align: right;\">\n",
       "      <th></th>\n",
       "      <th>average_cost_for_two</th>\n",
       "      <th>restaurant_name</th>\n",
       "    </tr>\n",
       "  </thead>\n",
       "  <tbody>\n",
       "    <tr>\n",
       "      <th>385</th>\n",
       "      <td>25000017</td>\n",
       "      <td>d'Arry's Verandah Restaurant</td>\n",
       "    </tr>\n",
       "  </tbody>\n",
       "</table>\n",
       "</div>"
      ],
      "text/plain": [
       "     average_cost_for_two               restaurant_name\n",
       "385              25000017  d'Arry's Verandah Restaurant"
      ]
     },
     "execution_count": 306,
     "metadata": {},
     "output_type": "execute_result"
    }
   ],
   "source": [
    "# 3. Qual o nome do restaurante que possui o maior valor de uma prato para duas pessoas?\n",
    "df.loc[ df['average_cost_for_two']==df['average_cost_for_two'].max() , ['average_cost_for_two','restaurant_name']]"
   ]
  },
  {
   "cell_type": "code",
   "execution_count": 307,
   "id": "ab1f194a",
   "metadata": {
    "ExecuteTime": {
     "end_time": "2023-02-20T17:44:50.393134Z",
     "start_time": "2023-02-20T17:44:50.374161Z"
    },
    "hidden": true
   },
   "outputs": [
    {
     "data": {
      "text/plain": [
       "['Café Savana',\n",
       " 'Inácia Poulet Rôti',\n",
       " 'Loca Como tu Madre',\n",
       " 'Severina',\n",
       " 'Galeteria Beira Lago',\n",
       " 'Capricho Mineiro',\n",
       " 'NAVE MÃE FAST FOOD GOURMET',\n",
       " 'Restaurante dos Amigos',\n",
       " 'Rancho Inn',\n",
       " 'Quitéria',\n",
       " 'Cantinho da Gula',\n",
       " 'Bar do Luiz Fernandes',\n",
       " 'Famiglia Rivitti',\n",
       " 'Barbosa',\n",
       " 'Tempero das Gerais']"
      ]
     },
     "execution_count": 307,
     "metadata": {},
     "output_type": "execute_result"
    }
   ],
   "source": [
    "# 4. Qual o nome do restaurante de tipo de culinária brasileira que possui a menor média de avaliação?\n",
    "\n",
    "conditions = (df['cuisines'] == 'Brazilian') & (df['aggregate_rating'] == df['aggregate_rating'].min())\n",
    "\n",
    "worst_br_rests = df.loc[ conditions, ['aggregate_rating','restaurant_name']].sort_values('aggregate_rating').drop_duplicates().reset_index()\n",
    "\n",
    "worst_br_rests.loc[:,'restaurant_name'].to_list()"
   ]
  },
  {
   "cell_type": "code",
   "execution_count": 308,
   "id": "dc612f39",
   "metadata": {
    "ExecuteTime": {
     "end_time": "2023-02-20T17:44:52.689555Z",
     "start_time": "2023-02-20T17:44:52.665649Z"
    },
    "hidden": true
   },
   "outputs": [
    {
     "data": {
      "text/plain": [
       "'Braseiro da Gávea'"
      ]
     },
     "execution_count": 308,
     "metadata": {},
     "output_type": "execute_result"
    }
   ],
   "source": [
    "# 5. Qual o nome do restaurante de tipo de culinária brasileira, e que é do Brasil, que possui a maior média de avaliação?\n",
    "\n",
    "df.loc[ (df['country_name'] == 'Brazil') & (df['cuisines'] == 'Brazilian'), ['aggregate_rating','restaurant_name','restaurant_id'] ].groupby(['restaurant_name','restaurant_id']).mean().sort_values(['aggregate_rating','restaurant_id'], ascending=[False,True]).reset_index().iloc[0,0]"
   ]
  },
  {
   "cell_type": "code",
   "execution_count": 322,
   "id": "0906e81c",
   "metadata": {
    "ExecuteTime": {
     "end_time": "2023-02-20T17:47:21.346384Z",
     "start_time": "2023-02-20T17:47:21.329337Z"
    },
    "hidden": true
   },
   "outputs": [
    {
     "data": {
      "text/html": [
       "<div>\n",
       "<style scoped>\n",
       "    .dataframe tbody tr th:only-of-type {\n",
       "        vertical-align: middle;\n",
       "    }\n",
       "\n",
       "    .dataframe tbody tr th {\n",
       "        vertical-align: top;\n",
       "    }\n",
       "\n",
       "    .dataframe thead th {\n",
       "        text-align: right;\n",
       "    }\n",
       "</style>\n",
       "<table border=\"1\" class=\"dataframe\">\n",
       "  <thead>\n",
       "    <tr style=\"text-align: right;\">\n",
       "      <th></th>\n",
       "      <th>has_online_delivery</th>\n",
       "      <th>mean</th>\n",
       "      <th>votes</th>\n",
       "    </tr>\n",
       "  </thead>\n",
       "  <tbody>\n",
       "    <tr>\n",
       "      <th>0</th>\n",
       "      <td>0</td>\n",
       "      <td>4.13</td>\n",
       "      <td>30</td>\n",
       "    </tr>\n",
       "    <tr>\n",
       "      <th>1</th>\n",
       "      <td>1</td>\n",
       "      <td>4.11</td>\n",
       "      <td>27</td>\n",
       "    </tr>\n",
       "  </tbody>\n",
       "</table>\n",
       "</div>"
      ],
      "text/plain": [
       "   has_online_delivery  mean  votes\n",
       "0                    0  4.13     30\n",
       "1                    1  4.11     27"
      ]
     },
     "execution_count": 322,
     "metadata": {},
     "output_type": "execute_result"
    }
   ],
   "source": [
    "# 6. Os restaurantes que aceitam pedido online são também, na média, os restaurantes que mais possuem avaliações registradas?\n",
    "x = df.loc[:, ['aggregate_rating','has_online_delivery']].groupby('has_online_delivery').agg({'aggregate_rating':['mean','nunique']}).round(2)\n",
    "x.columns = ['mean','votes']\n",
    "x = x.reset_index()\n",
    "x"
   ]
  },
  {
   "cell_type": "code",
   "execution_count": 334,
   "id": "3a022087",
   "metadata": {
    "ExecuteTime": {
     "end_time": "2023-02-20T17:50:26.759738Z",
     "start_time": "2023-02-20T17:50:26.742782Z"
    },
    "hidden": true
   },
   "outputs": [
    {
     "data": {
      "text/html": [
       "<div>\n",
       "<style scoped>\n",
       "    .dataframe tbody tr th:only-of-type {\n",
       "        vertical-align: middle;\n",
       "    }\n",
       "\n",
       "    .dataframe tbody tr th {\n",
       "        vertical-align: top;\n",
       "    }\n",
       "\n",
       "    .dataframe thead th {\n",
       "        text-align: right;\n",
       "    }\n",
       "</style>\n",
       "<table border=\"1\" class=\"dataframe\">\n",
       "  <thead>\n",
       "    <tr style=\"text-align: right;\">\n",
       "      <th></th>\n",
       "      <th>has_table_booking</th>\n",
       "      <th>average_cost_for_two</th>\n",
       "    </tr>\n",
       "  </thead>\n",
       "  <tbody>\n",
       "    <tr>\n",
       "      <th>0</th>\n",
       "      <td>0</td>\n",
       "      <td>3460.61</td>\n",
       "    </tr>\n",
       "    <tr>\n",
       "      <th>1</th>\n",
       "      <td>1</td>\n",
       "      <td>62931.51</td>\n",
       "    </tr>\n",
       "  </tbody>\n",
       "</table>\n",
       "</div>"
      ],
      "text/plain": [
       "   has_table_booking  average_cost_for_two\n",
       "0                  0               3460.61\n",
       "1                  1              62931.51"
      ]
     },
     "execution_count": 334,
     "metadata": {},
     "output_type": "execute_result"
    }
   ],
   "source": [
    "# 7. Os restaurantes que fazem reservas são também, na média, os restaurantes que possuem o maior valor médio de um prato para duas pessoas?\n",
    "\n",
    "df.loc[:, ['has_table_booking','average_cost_for_two']].groupby('has_table_booking').mean().reset_index().round(2)"
   ]
  },
  {
   "cell_type": "code",
   "execution_count": 359,
   "id": "b702044f",
   "metadata": {
    "ExecuteTime": {
     "end_time": "2023-02-20T18:09:52.392163Z",
     "start_time": "2023-02-20T18:09:52.366480Z"
    },
    "hidden": true
   },
   "outputs": [
    {
     "data": {
      "text/html": [
       "<div>\n",
       "<style scoped>\n",
       "    .dataframe tbody tr th:only-of-type {\n",
       "        vertical-align: middle;\n",
       "    }\n",
       "\n",
       "    .dataframe tbody tr th {\n",
       "        vertical-align: top;\n",
       "    }\n",
       "\n",
       "    .dataframe thead th {\n",
       "        text-align: right;\n",
       "    }\n",
       "</style>\n",
       "<table border=\"1\" class=\"dataframe\">\n",
       "  <thead>\n",
       "    <tr style=\"text-align: right;\">\n",
       "      <th></th>\n",
       "      <th>cuisines</th>\n",
       "      <th>country_name</th>\n",
       "      <th>average_cost_for_two</th>\n",
       "    </tr>\n",
       "  </thead>\n",
       "  <tbody>\n",
       "    <tr>\n",
       "      <th>0</th>\n",
       "      <td>BBQ</td>\n",
       "      <td>United States of America</td>\n",
       "      <td>39.64</td>\n",
       "    </tr>\n",
       "    <tr>\n",
       "      <th>1</th>\n",
       "      <td>Japanese</td>\n",
       "      <td>United States of America</td>\n",
       "      <td>56.41</td>\n",
       "    </tr>\n",
       "  </tbody>\n",
       "</table>\n",
       "</div>"
      ],
      "text/plain": [
       "   cuisines              country_name  average_cost_for_two\n",
       "0       BBQ  United States of America                 39.64\n",
       "1  Japanese  United States of America                 56.41"
      ]
     },
     "execution_count": 359,
     "metadata": {},
     "output_type": "execute_result"
    }
   ],
   "source": [
    "# 8. Os restaurantes do tipo de culinária japonesa dos Estados Unidos da América possuem um valor médio de prato para duas pessoas maior que as churrascarias americanas (BBQ)?\n",
    "\n",
    "df.loc[((df['cuisines'] == 'Japanese') | (df['cuisines'] == 'BBQ')) & (df['country_name'] == 'United States of America'),['average_cost_for_two','cuisines','country_name']].groupby(['cuisines','country_name']).mean().reset_index().round(2)"
   ]
  },
  {
   "cell_type": "markdown",
   "id": "606bb653",
   "metadata": {},
   "source": [
    "# 5.0. Tipos de Culinária"
   ]
  },
  {
   "cell_type": "markdown",
   "id": "634a3064",
   "metadata": {
    "ExecuteTime": {
     "end_time": "2023-02-20T18:11:51.453488Z",
     "start_time": "2023-02-20T18:11:51.401625Z"
    }
   },
   "source": [
    "1. Dos restaurantes que possuem o tipo de culinária italiana, qual o nome do restaurante com a maior média de avaliação?\n",
    "2. Dos restaurantes que possuem o tipo de culinária italiana, qual o nome do restaurante com a menor média de avaliação?\n",
    "3. Dos restaurantes que possuem o tipo de culinária americana, qual o nome do restaurante com a maior média de avaliação?\n",
    "4. Dos restaurantes que possuem o tipo de culinária americana, qual o nome do restaurante com a menor média de avaliação?\n",
    "5. Dos restaurantes que possuem o tipo de culinária árabe, qual o nome do restaurante com a maior média de avaliação?\n",
    "6. Dos restaurantes que possuem o tipo de culinária árabe, qual o nome do restaurante com a menor média de avaliação?\n",
    "7. Dos restaurantes que possuem o tipo de culinária japonesa, qual o nome do restaurante com a maior média de avaliação?\n",
    "8. Dos restaurantes que possuem o tipo de culinária japonesa, qual o nome do restaurante com a menor média de avaliação?\n",
    "9. Dos restaurantes que possuem o tipo de culinária caseira, qual o nome do restaurante com a maior média de avaliação?\n",
    "10. Dos restaurantes que possuem o tipo de culinária caseira, qual o nome do restaurante com a menor média de avaliação?\n",
    "11. Qual o tipo de culinária que possui o maior valor médio de um prato para duas pessoas?\n",
    "12. Qual o tipo de culinária que possui a maior nota média?\n",
    "13. Qual o tipo de culinária que possui mais restaurantes que aceitam pedidos online e fazem entregas?"
   ]
  },
  {
   "cell_type": "code",
   "execution_count": 373,
   "id": "4dd5cbe6",
   "metadata": {
    "ExecuteTime": {
     "end_time": "2023-02-20T18:17:36.751566Z",
     "start_time": "2023-02-20T18:17:36.734586Z"
    }
   },
   "outputs": [
    {
     "data": {
      "text/plain": [
       "'Darshan'"
      ]
     },
     "execution_count": 373,
     "metadata": {},
     "output_type": "execute_result"
    }
   ],
   "source": [
    "# 1. Dos restaurantes que possuem o tipo de culinária italiana, qual o nome do restaurante com a maior média de avaliação?\n",
    "best_italian = df.loc[df['cuisines'] == 'Italian', ['aggregate_rating','cuisines','restaurant_id','restaurant_name']].groupby(['cuisines','restaurant_id','restaurant_name']).mean().sort_values(['aggregate_rating','restaurant_id'], ascending=[False,True]).reset_index().iloc[0,2]\n",
    "\n",
    "best_italian"
   ]
  },
  {
   "cell_type": "code",
   "execution_count": 374,
   "id": "457c91b5",
   "metadata": {
    "ExecuteTime": {
     "end_time": "2023-02-20T18:18:03.283266Z",
     "start_time": "2023-02-20T18:18:03.267308Z"
    }
   },
   "outputs": [
    {
     "data": {
      "text/plain": [
       "'La Bocca Bar e Trattoria'"
      ]
     },
     "execution_count": 374,
     "metadata": {},
     "output_type": "execute_result"
    }
   ],
   "source": [
    "# 2. Dos restaurantes que possuem o tipo de culinária italiana, qual o nome do restaurante com a menor média de avaliação?\n",
    "worst_italian = df.loc[df['cuisines'] == 'Italian', ['aggregate_rating','cuisines','restaurant_id','restaurant_name']].groupby(['cuisines','restaurant_id','restaurant_name']).mean().sort_values(['aggregate_rating','restaurant_id'], ascending=[True,True]).reset_index().iloc[0,2]\n",
    "\n",
    "worst_italian"
   ]
  },
  {
   "cell_type": "code",
   "execution_count": 375,
   "id": "81188a43",
   "metadata": {
    "ExecuteTime": {
     "end_time": "2023-02-20T18:18:41.161140Z",
     "start_time": "2023-02-20T18:18:41.145205Z"
    }
   },
   "outputs": [
    {
     "data": {
      "text/plain": [
       "'OEB Breakfast Co.'"
      ]
     },
     "execution_count": 375,
     "metadata": {},
     "output_type": "execute_result"
    }
   ],
   "source": [
    "# 3. Dos restaurantes que possuem o tipo de culinária americana, qual o nome do restaurante com a maior média de avaliação?\n",
    "best_american = df.loc[df['cuisines'] == 'American', ['aggregate_rating','cuisines','restaurant_id','restaurant_name']].groupby(['cuisines','restaurant_id','restaurant_name']).mean().sort_values(['aggregate_rating','restaurant_id'], ascending=[False,True]).reset_index().iloc[0,2]\n",
    "\n",
    "best_american"
   ]
  },
  {
   "cell_type": "code",
   "execution_count": 377,
   "id": "2116db00",
   "metadata": {
    "ExecuteTime": {
     "end_time": "2023-02-20T18:20:20.402506Z",
     "start_time": "2023-02-20T18:20:20.377046Z"
    }
   },
   "outputs": [
    {
     "data": {
      "text/plain": [
       "'Alston Bar & Beef'"
      ]
     },
     "execution_count": 377,
     "metadata": {},
     "output_type": "execute_result"
    }
   ],
   "source": [
    "# 4. Dos restaurantes que possuem o tipo de culinária americana, qual o nome do restaurante com a menor média de avaliação?\n",
    "\n",
    "worst_american = df.loc[df['cuisines'] == 'American', ['aggregate_rating','cuisines','restaurant_id','restaurant_name']].groupby(['cuisines','restaurant_id','restaurant_name']).mean().sort_values(['aggregate_rating','restaurant_id'], ascending=[True,True]).reset_index().iloc[0,2]\n",
    "\n",
    "worst_american\n"
   ]
  },
  {
   "cell_type": "code",
   "execution_count": 381,
   "id": "94e66fd7",
   "metadata": {
    "ExecuteTime": {
     "end_time": "2023-02-20T18:21:57.618308Z",
     "start_time": "2023-02-20T18:21:57.605319Z"
    }
   },
   "outputs": [
    {
     "data": {
      "text/plain": [
       "'Mandi@36'"
      ]
     },
     "execution_count": 381,
     "metadata": {},
     "output_type": "execute_result"
    }
   ],
   "source": [
    "# 5. Dos restaurantes que possuem o tipo de culinária árabe, qual o nome do restaurante com a maior média de avaliação?\n",
    "\n",
    "best_arabian = df.loc[df['cuisines'] == 'Arabian', ['aggregate_rating','cuisines','restaurant_id','restaurant_name']].groupby(['cuisines','restaurant_id','restaurant_name']).mean().sort_values(['aggregate_rating','restaurant_id'], ascending=[False,True]).reset_index().iloc[0,2]\n",
    "\n",
    "best_arabian\n",
    "\n"
   ]
  },
  {
   "cell_type": "code",
   "execution_count": 382,
   "id": "9d99a05f",
   "metadata": {
    "ExecuteTime": {
     "end_time": "2023-02-20T18:22:09.485245Z",
     "start_time": "2023-02-20T18:22:09.463211Z"
    }
   },
   "outputs": [
    {
     "data": {
      "text/plain": [
       "'Raful'"
      ]
     },
     "execution_count": 382,
     "metadata": {},
     "output_type": "execute_result"
    }
   ],
   "source": [
    "# 6. Dos restaurantes que possuem o tipo de culinária árabe, qual o nome do restaurante com a menor média de avaliação?\n",
    "worst_arabian = df.loc[df['cuisines'] == 'Arabian', ['aggregate_rating','cuisines','restaurant_id','restaurant_name']].groupby(['cuisines','restaurant_id','restaurant_name']).mean().sort_values(['aggregate_rating','restaurant_id'], ascending=[True,True]).reset_index().iloc[0,2]\n",
    "\n",
    "worst_arabian"
   ]
  },
  {
   "cell_type": "code",
   "execution_count": 385,
   "id": "166eed74",
   "metadata": {
    "ExecuteTime": {
     "end_time": "2023-02-20T18:24:28.356906Z",
     "start_time": "2023-02-20T18:24:28.339976Z"
    }
   },
   "outputs": [
    {
     "data": {
      "text/plain": [
       "'Nobu Perth'"
      ]
     },
     "execution_count": 385,
     "metadata": {},
     "output_type": "execute_result"
    }
   ],
   "source": [
    "# 7. Dos restaurantes que possuem o tipo de culinária japonesa, qual o nome do restaurante com a maior média de avaliação?\n",
    "best_japanese = df.loc[df['cuisines'] == 'Japanese', ['aggregate_rating','cuisines','restaurant_id','restaurant_name']].groupby(['cuisines','restaurant_id','restaurant_name']).mean().sort_values(['aggregate_rating','restaurant_id'], ascending=[False,True]).reset_index().iloc[0,2]\n",
    "\n",
    "best_japanese\n"
   ]
  },
  {
   "cell_type": "code",
   "execution_count": 386,
   "id": "c6ca6cfe",
   "metadata": {
    "ExecuteTime": {
     "end_time": "2023-02-20T18:25:18.645767Z",
     "start_time": "2023-02-20T18:25:18.624731Z"
    }
   },
   "outputs": [
    {
     "data": {
      "text/plain": [
       "'Banzai Sushi'"
      ]
     },
     "execution_count": 386,
     "metadata": {},
     "output_type": "execute_result"
    }
   ],
   "source": [
    "# 8. Dos restaurantes que possuem o tipo de culinária japonesa, qual o nome do restaurante com a menor média de avaliação?\n",
    "worst_japanese = df.loc[df['cuisines'] == 'Japanese', ['aggregate_rating','cuisines','restaurant_id','restaurant_name']].groupby(['cuisines','restaurant_id','restaurant_name']).mean().sort_values(['aggregate_rating','restaurant_id'], ascending=[True,True]).reset_index().iloc[0,2]\n",
    "\n",
    "worst_japanese"
   ]
  },
  {
   "cell_type": "code",
   "execution_count": 395,
   "id": "909c860f",
   "metadata": {
    "ExecuteTime": {
     "end_time": "2023-02-20T18:37:33.340285Z",
     "start_time": "2023-02-20T18:37:33.323332Z"
    }
   },
   "outputs": [
    {
     "data": {
      "text/plain": [
       "'Kanaat Lokantası'"
      ]
     },
     "execution_count": 395,
     "metadata": {},
     "output_type": "execute_result"
    }
   ],
   "source": [
    "# 9. Dos restaurantes que possuem o tipo de culinária caseira, qual o nome do restaurante com a maior média de avaliação?\n",
    "best_homemade = df.loc[df['cuisines'] == 'Home-made', ['aggregate_rating','cuisines','restaurant_id','restaurant_name']].groupby(['cuisines','restaurant_id','restaurant_name']).mean().sort_values(['aggregate_rating','restaurant_id'], ascending=[False,True]).reset_index().iloc[0,2]\n",
    "\n",
    "best_homemade"
   ]
  },
  {
   "cell_type": "code",
   "execution_count": 394,
   "id": "d34c41b5",
   "metadata": {
    "ExecuteTime": {
     "end_time": "2023-02-20T18:37:30.467015Z",
     "start_time": "2023-02-20T18:37:30.453053Z"
    }
   },
   "outputs": [
    {
     "data": {
      "text/plain": [
       "'GurMekan Restaurant'"
      ]
     },
     "execution_count": 394,
     "metadata": {},
     "output_type": "execute_result"
    }
   ],
   "source": [
    "# 10. Dos restaurantes que possuem o tipo de culinária caseira, qual o nome do restaurante com a menor média de avaliação?\n",
    "worst_homemade = df.loc[df['cuisines'] == 'Home-made', ['aggregate_rating','cuisines','restaurant_id','restaurant_name']].groupby(['cuisines','restaurant_id','restaurant_name']).mean().sort_values(['aggregate_rating','restaurant_id'], ascending=[True,True]).reset_index().iloc[0,2]\n",
    "\n",
    "worst_homemade"
   ]
  },
  {
   "cell_type": "code",
   "execution_count": 401,
   "id": "80d4215b",
   "metadata": {
    "ExecuteTime": {
     "end_time": "2023-02-20T18:39:41.335668Z",
     "start_time": "2023-02-20T18:39:41.323700Z"
    }
   },
   "outputs": [
    {
     "data": {
      "text/plain": [
       "'Modern Australian'"
      ]
     },
     "execution_count": 401,
     "metadata": {},
     "output_type": "execute_result"
    }
   ],
   "source": [
    "# 11. Qual o tipo de culinária que possui o maior valor médio de um prato para duas pessoas?\n",
    "\n",
    "df.loc[:, ['cuisines','average_cost_for_two']].groupby('cuisines').mean().sort_values('average_cost_for_two', ascending=False).reset_index().iloc[0,0]"
   ]
  },
  {
   "cell_type": "code",
   "execution_count": 403,
   "id": "9f1e8eaf",
   "metadata": {
    "ExecuteTime": {
     "end_time": "2023-02-20T18:40:36.388557Z",
     "start_time": "2023-02-20T18:40:36.366594Z"
    }
   },
   "outputs": [
    {
     "data": {
      "text/plain": [
       "'Others'"
      ]
     },
     "execution_count": 403,
     "metadata": {},
     "output_type": "execute_result"
    }
   ],
   "source": [
    "# 12. Qual o tipo de culinária que possui a maior nota média?\n",
    "\n",
    "df.loc[:, ['cuisines','aggregate_rating']].groupby('cuisines').mean().sort_values('aggregate_rating', ascending=False).reset_index().iloc[0,0]"
   ]
  },
  {
   "cell_type": "code",
   "execution_count": 416,
   "id": "0021100d",
   "metadata": {
    "ExecuteTime": {
     "end_time": "2023-02-20T18:44:06.904203Z",
     "start_time": "2023-02-20T18:44:06.880160Z"
    }
   },
   "outputs": [
    {
     "data": {
      "text/plain": [
       "'North Indian'"
      ]
     },
     "execution_count": 416,
     "metadata": {},
     "output_type": "execute_result"
    }
   ],
   "source": [
    "# 13. Qual o tipo de culinária que possui mais restaurantes que aceitam pedidos online e fazem entregas?\n",
    "\n",
    "df.loc[(df['has_online_delivery'] == 1) & (df['is_delivering_now'] == 1), ['cuisines','restaurant_id']].groupby('cuisines').nunique().sort_values('restaurant_id', ascending=False).reset_index().iloc[0,0]"
   ]
  }
 ],
 "metadata": {
  "kernelspec": {
   "display_name": "Python 3 (ipykernel)",
   "language": "python",
   "name": "python3"
  },
  "language_info": {
   "codemirror_mode": {
    "name": "ipython",
    "version": 3
   },
   "file_extension": ".py",
   "mimetype": "text/x-python",
   "name": "python",
   "nbconvert_exporter": "python",
   "pygments_lexer": "ipython3",
   "version": "3.9.7"
  }
 },
 "nbformat": 4,
 "nbformat_minor": 5
}
